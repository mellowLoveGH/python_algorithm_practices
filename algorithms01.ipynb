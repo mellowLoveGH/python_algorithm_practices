{
  "nbformat": 4,
  "nbformat_minor": 0,
  "metadata": {
    "colab": {
      "name": "algorithms01.ipynb",
      "provenance": []
    },
    "kernelspec": {
      "name": "python3",
      "display_name": "Python 3"
    },
    "language_info": {
      "name": "python"
    }
  },
  "cells": [
    {
      "cell_type": "code",
      "metadata": {
        "colab": {
          "base_uri": "https://localhost:8080/"
        },
        "id": "yUVpv6aCbp2P",
        "outputId": "9ce79b08-ce49-4007-eb2f-18097254066e"
      },
      "source": [
        "print('algorithms01 ----------------------')\n"
      ],
      "execution_count": 1,
      "outputs": [
        {
          "output_type": "stream",
          "text": [
            "algorithms01 ----------------------\n"
          ],
          "name": "stdout"
        }
      ]
    },
    {
      "cell_type": "code",
      "metadata": {
        "colab": {
          "base_uri": "https://localhost:8080/"
        },
        "id": "O3MxUS-Bb0kI",
        "outputId": "834c3e12-0b58-409d-c123-4d4a8399d517"
      },
      "source": [
        "# Insertion sort, non-increasing order\n",
        "def insertion_sort(arr, every_iteration=False):\n",
        "  L = len(arr)\n",
        "  i = 1\n",
        "  while i < L:\n",
        "    vi = arr[i]\n",
        "    # left side sorted\n",
        "    # insert vi into the correct order in arr[0, ..., i]\n",
        "    j = i - 1\n",
        "    while j>=0 and arr[j] > vi:\n",
        "      arr[j+1] = arr[j]\n",
        "      j = j - 1\n",
        "    arr[j+1] = vi\n",
        "    if every_iteration:\n",
        "      print(arr)\n",
        "    i = i + 1\n",
        "  return arr\n",
        "\n",
        "arr = [5, 2, 4, 6, 1, 3]\n",
        "arr = [31, 41, 59, 26, 41, 58]\n",
        "insertion_sort(arr)\n",
        "\n",
        "# The divide-and-conquer approach, divide and conquer, DAC\n",
        "  # recursive, recursion tree\n",
        "  # break the problem into several subproblems \n",
        "    # that are similar to the original problem but smaller in size\n",
        "  # solve the subproblems recursively\n",
        "  # then combine these solutions to create a solution to the original problem\n",
        "\n",
        "# merge sort \n",
        "def merge(arr, start1, end1, start2, end2):\n",
        "  L1 = end1 - start1\n",
        "  L2 = end2 - start2\n",
        "  sub1 = []\n",
        "  sub2 = []\n",
        "  i = 0\n",
        "  while i < L1:\n",
        "    sub1.append(arr[start1 + i])\n",
        "    i = i + 1\n",
        "  i = 0\n",
        "  while i < L2:\n",
        "    sub2.append(arr[start2 + i])\n",
        "    i = i + 1\n",
        "  #\n",
        "  k = start1\n",
        "  i = j = 0\n",
        "  while i<L1 and j<L2:\n",
        "    v1 = sub1[i]\n",
        "    v2 = sub2[j]\n",
        "    if v1 < v2:\n",
        "      arr[k] = v1\n",
        "      k = k + 1\n",
        "      i = i + 1\n",
        "    else:\n",
        "      arr[k] = v2\n",
        "      k = k + 1\n",
        "      j = j + 1\n",
        "  while i<L1:\n",
        "    arr[k] = sub1[i]\n",
        "    k = k + 1\n",
        "    i = i + 1\n",
        "  while j<L2:\n",
        "    arr[k] = sub2[j]\n",
        "    k = k + 1\n",
        "    j = j + 1\n",
        "  return arr\n",
        "\n",
        "def merge_sort(arr, start, end):\n",
        "  if start+1 < end:\n",
        "    mid = (start + end) // 2\n",
        "    merge_sort(arr, start, mid)\n",
        "    merge_sort(arr, mid, end)\n",
        "    merge(arr, start, mid, mid, end)\n",
        "  return \n",
        "\n",
        "arr = [2, 4, 5, 7, 1, 2, 3, 6]\n",
        "arr = [5, 2, 4, 6, 1, 3]\n",
        "arr = [31, 41, 59, 26, 41, 58]\n",
        "arr = [3, 41, 52, 26, 38, 57, 9, 49]\n",
        "#merge(arr, 0, 4, 4, 8)\n",
        "merge_sort(arr, 0, len(arr))\n",
        "print(arr)\n",
        "\n",
        "# Correctness of bubblesort\n",
        "  # bubble sort\n",
        "\n",
        "# Correctness of Horner’s rule\n",
        "  # \n"
      ],
      "execution_count": 30,
      "outputs": [
        {
          "output_type": "stream",
          "text": [
            "[3, 9, 26, 38, 41, 49, 52, 57]\n"
          ],
          "name": "stdout"
        }
      ]
    },
    {
      "cell_type": "code",
      "metadata": {
        "id": "AzEiqEy2Mapq"
      },
      "source": [
        ""
      ],
      "execution_count": null,
      "outputs": []
    },
    {
      "cell_type": "code",
      "metadata": {
        "colab": {
          "base_uri": "https://localhost:8080/"
        },
        "id": "X3LoRxNgs_1i",
        "outputId": "f5a348e8-37cd-45df-99a2-052c169b7d7c"
      },
      "source": [
        "# Asymptotic notation\n",
        "  # Θ notation, asymptotically tight bound\n",
        "  # O notation, asymptotic upper bound\n",
        "  # Ω notation, asymptotic lower bound\n",
        "# Monotonicity, monotonically increasing, monotonically decreasing\n",
        "  # strictly increasing, strictly decreasing \n",
        "\n",
        "# maximum subarray, maximum sub-array\n",
        "\"\"\"def maximum_subarray(arr):\n",
        "  L = len(arr)\n",
        "  left = arr[0]\n",
        "  left_index = 0\n",
        "  # the most left positive value\n",
        "  i = 0\n",
        "  while i<L and left<0:\n",
        "    left = arr[i]\n",
        "    left_index = i\n",
        "    i = i + 1\n",
        "  right = arr[L-1]\n",
        "  right_index = L-1\n",
        "  # the most right positive value\n",
        "  i = L-1\n",
        "  while i>left_index and right<0:\n",
        "    right = arr[i]\n",
        "    right_index = i\n",
        "    i = i - 1\n",
        "  #print(left, left_index, right, right_index)\n",
        "  i = left_index\n",
        "  left_sum = 0\n",
        "  while i<right_index:\n",
        "    tmp = arr[i]\n",
        "    left_sum = left_sum + tmp\n",
        "    if left_sum<0:\n",
        "      left_index = i + 1\n",
        "      left = arr[left_index]\n",
        "      left_sum = 0\n",
        "    i = i + 1\n",
        "  print(left, left_index, right, right_index)\n",
        "  return \"\"\"\n",
        "\n",
        "import math\n",
        "def maximum_subarray(arr):\n",
        "\n",
        "  return\n",
        "\n",
        "# crosses the midpoint,\n",
        "def max_crossing_subarray(arr, low, mid, high):\n",
        "  left_sum = -math.inf\n",
        "  left_index = mid\n",
        "  sum = 0\n",
        "  i = mid\n",
        "  while i>=low:\n",
        "    sum = sum + arr[i]\n",
        "    if sum>left_sum:\n",
        "      left_sum = sum\n",
        "      left_index = i\n",
        "    i = i - 1\n",
        "  #\n",
        "  right_sum = -math.inf\n",
        "  right_index = mid + 1\n",
        "  sum = 0\n",
        "  i = mid + 1\n",
        "  while i<high:\n",
        "    sum = sum + arr[i]\n",
        "    if sum>right_sum:\n",
        "      right_sum = sum\n",
        "      right_index = i\n",
        "    i = i + 1\n",
        "  return (left_index, right_index, left_sum + right_sum)\n",
        "\n",
        "def maximum_subarray(arr, low, high):\n",
        "  if low+1 < high:\n",
        "    mid = (low+high)//2\n",
        "    # left subarray\n",
        "    l1, r1, s1 = maximum_subarray(arr, low, mid)\n",
        "    # crossing subarray\n",
        "    l2, r2, s2 = maximum_subarray(arr, mid, high)\n",
        "    # right subarray\n",
        "    l3, r3, s3 = max_crossing_subarray(arr, low, mid, high)\n",
        "    if s3>=s2 and s3>=s1:\n",
        "      return l3, r3, s3\n",
        "    elif s2>=s3 and s2>=s1:\n",
        "      return l2, r2, s2\n",
        "    else:\n",
        "      return l1, r1, s1\n",
        "  return low, high, arr[low]\n",
        "\n",
        "arr = [13, -3, -25, 20, -3, -16, -23, 18, 20, -7, 12, -5, -22, 15, -4, 7]\n",
        "#max_crossing_subarray(arr, 0, 10, len(arr))\n",
        "maximum_subarray(arr, 0, len(arr))\n",
        "\n",
        "# Strassen’s algorithm for matrix multiplication\n",
        "  # SQUARE-MATRIX-MULTIPLY (A B), n^3\n",
        "  # \n",
        "\n",
        "# The substitution method for solving recurrences\n",
        "\n",
        "# The recursion-tree method for solving recurrences\n",
        "\n",
        "# The master method for solving recurrences\n",
        "  # Master theorem\n",
        "\n",
        "# Monge arrays"
      ],
      "execution_count": 47,
      "outputs": [
        {
          "output_type": "execute_result",
          "data": {
            "text/plain": [
              "(7, 10, 43)"
            ]
          },
          "metadata": {
            "tags": []
          },
          "execution_count": 47
        }
      ]
    },
    {
      "cell_type": "code",
      "metadata": {
        "id": "wtM30m1cKHBz"
      },
      "source": [
        "# The hiring problem\n",
        "  # Probabilistic analysis - average-case running time"
      ],
      "execution_count": null,
      "outputs": []
    },
    {
      "cell_type": "code",
      "metadata": {
        "colab": {
          "base_uri": "https://localhost:8080/"
        },
        "id": "MeF5kmj0gJaQ",
        "outputId": "15be57da-14b8-4c0b-f3d5-b904db376560"
      },
      "source": [
        "# heap sort\n",
        "  # for array\n",
        "\n",
        "#   0\n",
        "# 1   2\n",
        "#3 4  5 6\n",
        "def heap_parent(i):\n",
        "  if i == 0:\n",
        "    return 0\n",
        "  return (i-1)//2\n",
        "\n",
        "def heap_left(i):\n",
        "  return 2*i+1\n",
        "\n",
        "def heap_right(i):\n",
        "  return (i+1)*2\n",
        "\n",
        "def max_heapify(arr, i):\n",
        "  left = heap_left(i)\n",
        "  right = heap_right(i)\n",
        "  L = len(arr)\n",
        "  largest = i\n",
        "  if left<L and arr[left]>arr[largest]:\n",
        "    largest = left\n",
        "  if right<L and arr[right]>arr[largest]:\n",
        "    largest = right\n",
        "  if largest != i:\n",
        "    # exchange\n",
        "    tmp = arr[largest]\n",
        "    arr[largest] = arr[i]\n",
        "    arr[i] = tmp\n",
        "    #\n",
        "    max_heapify(arr, largest)\n",
        "  return\n",
        "\n",
        "def build_max_heap(arr):\n",
        "  L = len(arr)\n",
        "  i = L//2\n",
        "  while i>=0:\n",
        "    max_heapify(arr, i)\n",
        "    i = i - 1\n",
        "  return \n",
        "\n",
        "def heap_sort(arr):\n",
        "  build_max_heap(arr)\n",
        "  L = len(arr)\n",
        "  i = L-1\n",
        "  sort_arr = []\n",
        "  while i>0:\n",
        "    v = arr[0]\n",
        "    sort_arr.append(v)\n",
        "    i = i - 1\n",
        "    arr = arr[1:]\n",
        "    build_max_heap(arr)\n",
        "  v = arr[0]\n",
        "  sort_arr.append(v)\n",
        "  return sort_arr\n",
        "\n",
        "arr = [16, 14, 10, 8, 7, 9, 3, 2, 4, 1]\n",
        "arr = [23, 17, 14, 6, 13, 10, 1, 5, 7, 12]\n",
        "arr = [27, 17, 3, 16, 13, 10, 1, 5, 7, 12, 4, 8, 9, 0]\n",
        "arr = [5, 13, 2, 25, 7, 17, 20, 8, 4]\n",
        "sort_arr = heap_sort(arr)\n",
        "print(sort_arr)\n",
        "\n",
        "\n",
        "# quicksort, quick sort\n"
      ],
      "execution_count": 38,
      "outputs": [
        {
          "output_type": "stream",
          "text": [
            "[25, 20, 17, 13, 8, 7, 5, 4, 2]\n"
          ],
          "name": "stdout"
        }
      ]
    },
    {
      "cell_type": "code",
      "metadata": {
        "colab": {
          "base_uri": "https://localhost:8080/"
        },
        "id": "fI4H2T4D4i2O",
        "outputId": "00dffcd8-4a0b-43f3-ffd4-67a248b19505"
      },
      "source": [
        "# dynamic programming\n",
        "\n",
        "# 1. rod cut\n",
        "dic = {0:0, 1:1, 2:5, 3:8, 4:9, 5:10, 6:17, 7:17, 8:20, 9:24, 10:30}\n",
        "#print(dic)\n",
        "\n",
        "# naive recursive solution is inefficient \n",
        "# inefficient\n",
        "import math\n",
        "def rod_cut(dic, n):\n",
        "  if n==0:\n",
        "    return dic[n]\n",
        "  q = -math.inf\n",
        "  for i in range(1, n+1):\n",
        "    q = max(q, dic[i]+rod_cut(dic, n-i))\n",
        "  return q\n",
        "\n",
        "n = 10\n",
        "rod_cut(dic, n)\n",
        "\n",
        "# # dynamic programming, time-memory trade-off\n",
        "  # 1. arrange for each subproblem to be solved only once\n",
        "  # 2. saving its solution\n",
        "  # 3. need to refer to this subproblem’s solution again later, we can just look it up\n",
        "\n",
        "# top-down with memoization,  bottom-up method\n",
        "dic = {0:0, 1:1, 2:5, 3:8, 4:9, 5:10, 6:17, 7:17, 8:20, 9:24, 10:30}\n",
        "def bottom_up_cut_rod(dic, n):\n",
        "  # \n",
        "  r = []\n",
        "  L = len(dic)\n",
        "  for i in range(L):\n",
        "    r.append(-math.inf)\n",
        "  #print(len(r))\n",
        "  #\n",
        "  for i in range(1, n+1):\n",
        "    q = r[i-1]\n",
        "    for j in range(i):\n",
        "      q = max(q, dic[j]+dic[i-j])\n",
        "    r[i-1] = q\n",
        "  return r[:n]\n",
        "n = 10\n",
        "bottom_up_cut_rod(dic, n)\n",
        "\n",
        "# Matrix-chain multiplication\n",
        "\n",
        "# Longest common subsequence\n",
        "\n",
        "# Optimal binary search trees\n",
        "\n",
        "# Edit distance\n"
      ],
      "execution_count": 55,
      "outputs": [
        {
          "output_type": "execute_result",
          "data": {
            "text/plain": [
              "[1, 5, 8, 10, 13, 17, 18, 22, 25, 30]"
            ]
          },
          "metadata": {
            "tags": []
          },
          "execution_count": 55
        }
      ]
    },
    {
      "cell_type": "code",
      "metadata": {
        "id": "4XULTILsc7x-"
      },
      "source": [
        "# Greedy Algorithms\n",
        "# An activity-selection problem"
      ],
      "execution_count": null,
      "outputs": []
    },
    {
      "cell_type": "code",
      "metadata": {
        "colab": {
          "base_uri": "https://localhost:8080/"
        },
        "id": "2WHzavmcpiPf",
        "outputId": "a51da7d4-b4a2-4753-d484-9e9707e96d03"
      },
      "source": [
        "\n",
        "\n",
        "import math\n",
        "def solution(N):\n",
        "  if N == 0:\n",
        "    return []\n",
        "  R = []\n",
        "  dic={1:[1], 2:[], 3:[3], 4:[1,3], 5:[5], 6:[1,5], 7:[7], 8:[1,7], 9:[1,3,5], 10:[1,9]}\n",
        "  if N in dic:\n",
        "    return dic[N]\n",
        "  #\n",
        "  i = 11\n",
        "  while i<=N:\n",
        "    dic = find(i, dic)\n",
        "    print(i, dic)\n",
        "    i = i + 1\n",
        "  R = dic[N]\n",
        "  return R \n",
        "\n",
        "def find(num, dic):\n",
        "  # num = 1, num-1\n",
        "    # 3, num-3\n",
        "    # 5, num-5\n",
        "    # ...\n",
        "    # num, num-num\n",
        "  R = []\n",
        "  for i in range(1, num):\n",
        "    if i != 2:\n",
        "      v = num-i\n",
        "      # i, v\n",
        "      p1 = dic[i]\n",
        "      p2 = dic[v]\n",
        "      tmp_dic = {}\n",
        "      for v1 in p1:\n",
        "        tmp_dic[v1]=1\n",
        "      for v2 in p2:\n",
        "        tmp_dic[v2]=1\n",
        "      tmp_len = len(tmp_dic)\n",
        "      if tmp_len == len(p1)+len(p2):\n",
        "        #print(i, v, tmp_dic)\n",
        "        tmp_list = []\n",
        "        for v3 in tmp_dic:\n",
        "          tmp_list.append(v3)\n",
        "        if len(tmp_list)>len(R):\n",
        "          R = sorted(tmp_list)\n",
        "          dic[num] = R\n",
        "  return dic\n",
        "\n",
        "N = 14\n",
        "tmp = solution(N)\n",
        "print(tmp)\n",
        "\n",
        "\n"
      ],
      "execution_count": 28,
      "outputs": [
        {
          "output_type": "stream",
          "text": [
            "3 8 {3: 1, 1: 1, 7: 1}\n",
            "4 7 {1: 1, 3: 1, 7: 1}\n",
            "7 4 {7: 1, 1: 1, 3: 1}\n",
            "8 3 {1: 1, 7: 1, 3: 1}\n",
            "9 2 {1: 1, 3: 1, 5: 1}\n",
            "11 {1: [1], 2: [], 3: [3], 4: [1, 3], 5: [5], 6: [1, 5], 7: [7], 8: [1, 7], 9: [1, 3, 5], 10: [1, 9], 11: [1, 3, 7]}\n",
            "5 7 {5: 1, 7: 1}\n",
            "7 5 {7: 1, 5: 1}\n",
            "10 2 {1: 1, 9: 1}\n",
            "12 {1: [1], 2: [], 3: [3], 4: [1, 3], 5: [5], 6: [1, 5], 7: [7], 8: [1, 7], 9: [1, 3, 5], 10: [1, 9], 11: [1, 3, 7], 12: [5, 7]}\n",
            "1 12 {1: 1, 5: 1, 7: 1}\n",
            "3 10 {3: 1, 1: 1, 9: 1}\n",
            "5 8 {5: 1, 1: 1, 7: 1}\n",
            "6 7 {1: 1, 5: 1, 7: 1}\n",
            "7 6 {7: 1, 1: 1, 5: 1}\n",
            "8 5 {1: 1, 7: 1, 5: 1}\n",
            "10 3 {1: 1, 9: 1, 3: 1}\n",
            "11 2 {1: 1, 3: 1, 7: 1}\n",
            "12 1 {5: 1, 7: 1, 1: 1}\n",
            "13 {1: [1], 2: [], 3: [3], 4: [1, 3], 5: [5], 6: [1, 5], 7: [7], 8: [1, 7], 9: [1, 3, 5], 10: [1, 9], 11: [1, 3, 7], 12: [5, 7], 13: [1, 5, 7]}\n",
            "12 2 {5: 1, 7: 1}\n",
            "14 {1: [1], 2: [], 3: [3], 4: [1, 3], 5: [5], 6: [1, 5], 7: [7], 8: [1, 7], 9: [1, 3, 5], 10: [1, 9], 11: [1, 3, 7], 12: [5, 7], 13: [1, 5, 7], 14: [5, 7]}\n",
            "[5, 7]\n"
          ],
          "name": "stdout"
        }
      ]
    }
  ]
}